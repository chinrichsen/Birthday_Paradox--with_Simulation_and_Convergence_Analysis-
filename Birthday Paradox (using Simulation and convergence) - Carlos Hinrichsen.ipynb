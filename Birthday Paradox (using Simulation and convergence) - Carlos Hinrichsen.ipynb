{
 "cells": [
  {
   "cell_type": "markdown",
   "metadata": {},
   "source": [
    "# Birthday Paradox\n",
    "## Carlos Hinrichsen\n",
    "### May 28th, 2019\n",
    "\n",
    "Birthday paradox concerns the probability that, in a set of `n` randomly chosen people, some pair of them will have the same birthday. You can read about this problem at https://en.wikipedia.org/wiki/Birthday_problem.\n",
    "\n",
    "Write a function called **`has_duplicates()`**, that takes a list and returns `True` if there is any element that appears more than once. It should not modify the original list.\n",
    "\n",
    "If there are 45 students in the class, what are the chances that any two students will have the same birthday? You can estimate this probability by generating random samples of 45 birthdays and checking for matches.\n",
    "\n",
    "__IMPORTANT NOTE: PLEASE REVIEW THE \"SECTION 5. APPENDIX\" BEFORE RUNNING THE WHOLE NOTEBOOK__ "
   ]
  },
  {
   "cell_type": "markdown",
   "metadata": {},
   "source": [
    "## 1. Import Required Libraries"
   ]
  },
  {
   "cell_type": "code",
   "execution_count": 1,
   "metadata": {},
   "outputs": [],
   "source": [
    "import numpy as np\n",
    "import matplotlib as mpl\n",
    "import matplotlib.pyplot as plt\n",
    "import math\n",
    "import random"
   ]
  },
  {
   "cell_type": "markdown",
   "metadata": {},
   "source": [
    "## 2. Creating **`has_duplicates()`** function\n",
    "\n",
    "The purpose of that function is to take a list and returns `True` if there is any element that appears more than once. It should not modify the original list. \n",
    "\n",
    "__IMPORTANT: In the next section it will be created the function that simulates different samples of students classes, and that prints:__\n",
    "- __number of students__\n",
    "- __number of iterations/samples__\n",
    "- __list of duplicate days for each iteration, where duplicates are found__\n",
    "- __probability__"
   ]
  },
  {
   "cell_type": "code",
   "execution_count": 2,
   "metadata": {},
   "outputs": [],
   "source": [
    "# Defining the function\n",
    "def has_duplicates(mylist):\n",
    "    # We created a global variable to use in the simulation part of the assignment\n",
    "    global match\n",
    "    # Here we identify the number of repeated elements on the list\n",
    "    match=set([x for x in mylist if mylist.count(x) > 1]);\n",
    "    # If the number of repeated elements is more than one, we have at least two persons with the same birthday (or match)\n",
    "    if len(match)>0:\n",
    "        # We return True in this case, as required by assignment\n",
    "        return(True)\n",
    "    # The opposite case\n",
    "    else:\n",
    "        # We return False if there is no match\n",
    "        return(False)"
   ]
  },
  {
   "cell_type": "markdown",
   "metadata": {},
   "source": [
    "## 3. Test **`has_duplicates()`** function\n",
    "\n",
    "The main funtionality for the function at this point, is to to take a list and returns `True` if there is any element that appears more than once. It should not modify the original list. \n",
    "\n",
    "Below there are three examples of lists of the birthdays of the students, where we will use the **`has_duplicates()`** function:\n",
    "    1. 7 students with no common birthdays\n",
    "    2. 7 students where some of them have common birthdays\n",
    "    3. List of 45 students with birthdays selected randomly from 365 of a year\n",
    "    \n",
    "__In the next section we will get more information about the duplicate values, for example, which are the common birthday days__\n"
   ]
  },
  {
   "cell_type": "code",
   "execution_count": 3,
   "metadata": {},
   "outputs": [
    {
     "data": {
      "text/plain": [
       "False"
      ]
     },
     "execution_count": 3,
     "metadata": {},
     "output_type": "execute_result"
    }
   ],
   "source": [
    "list_sample1 = [1,2,3,4,6,7,9]\n",
    "has_duplicates(list_sample1)"
   ]
  },
  {
   "cell_type": "code",
   "execution_count": 4,
   "metadata": {},
   "outputs": [
    {
     "data": {
      "text/plain": [
       "True"
      ]
     },
     "execution_count": 4,
     "metadata": {},
     "output_type": "execute_result"
    }
   ],
   "source": [
    "list_sample2 = [1,2,2,3,4,4,6,7,7,9]\n",
    "has_duplicates(list_sample2)"
   ]
  },
  {
   "cell_type": "code",
   "execution_count": 5,
   "metadata": {},
   "outputs": [
    {
     "name": "stdout",
     "output_type": "stream",
     "text": [
      "[346, 197, 364, 326, 104, 266, 307, 135, 67, 232, 56, 268, 207, 247, 365, 7, 297, 118, 220, 321, 316, 138, 360, 194, 221, 1, 205, 269, 300, 62, 353, 347, 80, 338, 344, 244, 344, 309, 130, 262, 205, 322, 103, 288, 301]\n"
     ]
    },
    {
     "data": {
      "text/plain": [
       "True"
      ]
     },
     "execution_count": 5,
     "metadata": {},
     "output_type": "execute_result"
    }
   ],
   "source": [
    "list_sample3 = list(np.random.choice(np.arange(1,365+1,dtype=int),45,replace=True))\n",
    "# We print the list to see if there are duplicate values\n",
    "print(list_sample3)\n",
    "has_duplicates(list_sample3)"
   ]
  },
  {
   "cell_type": "markdown",
   "metadata": {},
   "source": [
    "## 4. Creation of samples and simulation\n",
    "\n",
    "The main purpose of this section is create a code using the **`has_duplicates()`** function, but considering multiple classes within the school (__this is the number of iterations__). The code should print out: \n",
    "\n",
    "- number of students\n",
    "- number of iterations/samples\n",
    "- list of duplicate days for each iteration, where duplicates are found\n",
    "- probability\n",
    "\n",
    "The number of iterations/samples used were 200. This number was determined due to the convergence analysis developed in the section 5. Appendix. "
   ]
  },
  {
   "cell_type": "code",
   "execution_count": 6,
   "metadata": {},
   "outputs": [
    {
     "name": "stdout",
     "output_type": "stream",
     "text": [
      "In the class(iteration) 1 , the list of duplicated birthdays is: [108, 234, 337]\n",
      "In the class(iteration) 2 , the list of duplicated birthdays is: [250]\n",
      "In the class(iteration) 4 , the list of duplicated birthdays is: [99, 212, 344, 353]\n",
      "In the class(iteration) 5 , the list of duplicated birthdays is: [210, 317]\n",
      "In the class(iteration) 6 , the list of duplicated birthdays is: [2, 54, 274]\n",
      "In the class(iteration) 7 , the list of duplicated birthdays is: [81]\n",
      "In the class(iteration) 8 , the list of duplicated birthdays is: [365]\n",
      "In the class(iteration) 9 , the list of duplicated birthdays is: [64]\n",
      "In the class(iteration) 10 , the list of duplicated birthdays is: [54, 75]\n",
      "In the class(iteration) 11 , the list of duplicated birthdays is: [218, 234, 285]\n",
      "In the class(iteration) 12 , the list of duplicated birthdays is: [145, 262]\n",
      "In the class(iteration) 13 , the list of duplicated birthdays is: [80, 114, 118, 183, 237, 250]\n",
      "In the class(iteration) 15 , the list of duplicated birthdays is: [108]\n",
      "In the class(iteration) 16 , the list of duplicated birthdays is: [195]\n",
      "In the class(iteration) 17 , the list of duplicated birthdays is: [1, 70, 139, 164, 240, 281]\n",
      "In the class(iteration) 19 , the list of duplicated birthdays is: [52, 80, 116, 149]\n",
      "In the class(iteration) 21 , the list of duplicated birthdays is: [245, 308]\n",
      "In the class(iteration) 22 , the list of duplicated birthdays is: [40, 212, 219, 253]\n",
      "In the class(iteration) 23 , the list of duplicated birthdays is: [39, 64, 214]\n",
      "In the class(iteration) 24 , the list of duplicated birthdays is: [156, 272, 322]\n",
      "In the class(iteration) 25 , the list of duplicated birthdays is: [338]\n",
      "In the class(iteration) 26 , the list of duplicated birthdays is: [129, 163, 283]\n",
      "In the class(iteration) 27 , the list of duplicated birthdays is: [98, 278, 291]\n",
      "In the class(iteration) 28 , the list of duplicated birthdays is: [101, 298, 305]\n",
      "In the class(iteration) 29 , the list of duplicated birthdays is: [129, 147, 327]\n",
      "In the class(iteration) 30 , the list of duplicated birthdays is: [41, 338]\n",
      "In the class(iteration) 32 , the list of duplicated birthdays is: [260]\n",
      "In the class(iteration) 33 , the list of duplicated birthdays is: [8, 252]\n",
      "In the class(iteration) 34 , the list of duplicated birthdays is: [187, 270]\n",
      "In the class(iteration) 35 , the list of duplicated birthdays is: [154]\n",
      "In the class(iteration) 36 , the list of duplicated birthdays is: [44, 121, 190, 265]\n",
      "In the class(iteration) 37 , the list of duplicated birthdays is: [231]\n",
      "In the class(iteration) 38 , the list of duplicated birthdays is: [77, 308]\n",
      "In the class(iteration) 39 , the list of duplicated birthdays is: [80, 90, 144, 330]\n",
      "In the class(iteration) 40 , the list of duplicated birthdays is: [19, 140, 158, 285]\n",
      "In the class(iteration) 41 , the list of duplicated birthdays is: [68, 87, 340]\n",
      "In the class(iteration) 42 , the list of duplicated birthdays is: [157, 180, 289]\n",
      "In the class(iteration) 43 , the list of duplicated birthdays is: [81, 95, 107]\n",
      "In the class(iteration) 44 , the list of duplicated birthdays is: [117]\n",
      "In the class(iteration) 45 , the list of duplicated birthdays is: [125, 190, 232]\n",
      "In the class(iteration) 46 , the list of duplicated birthdays is: [159, 246, 266]\n",
      "In the class(iteration) 47 , the list of duplicated birthdays is: [13, 89, 223, 335]\n",
      "In the class(iteration) 48 , the list of duplicated birthdays is: [114, 167]\n",
      "In the class(iteration) 49 , the list of duplicated birthdays is: [172, 281, 309, 314]\n",
      "In the class(iteration) 50 , the list of duplicated birthdays is: [108, 164]\n",
      "In the class(iteration) 51 , the list of duplicated birthdays is: [74, 197]\n",
      "In the class(iteration) 52 , the list of duplicated birthdays is: [191, 239]\n",
      "In the class(iteration) 53 , the list of duplicated birthdays is: [139, 256]\n",
      "In the class(iteration) 54 , the list of duplicated birthdays is: [240]\n",
      "In the class(iteration) 55 , the list of duplicated birthdays is: [77, 131, 266]\n",
      "In the class(iteration) 56 , the list of duplicated birthdays is: [18, 101]\n",
      "In the class(iteration) 57 , the list of duplicated birthdays is: [273]\n",
      "In the class(iteration) 59 , the list of duplicated birthdays is: [329]\n",
      "In the class(iteration) 60 , the list of duplicated birthdays is: [173]\n",
      "In the class(iteration) 61 , the list of duplicated birthdays is: [109, 147, 339, 353]\n",
      "In the class(iteration) 62 , the list of duplicated birthdays is: [73, 176]\n",
      "In the class(iteration) 63 , the list of duplicated birthdays is: [5, 183, 269]\n",
      "In the class(iteration) 64 , the list of duplicated birthdays is: [35, 57, 62]\n",
      "In the class(iteration) 65 , the list of duplicated birthdays is: [214, 275, 296]\n",
      "In the class(iteration) 66 , the list of duplicated birthdays is: [268]\n",
      "In the class(iteration) 67 , the list of duplicated birthdays is: [7, 143, 184, 238]\n",
      "In the class(iteration) 68 , the list of duplicated birthdays is: [25, 194, 199]\n",
      "In the class(iteration) 69 , the list of duplicated birthdays is: [124, 209, 253]\n",
      "In the class(iteration) 70 , the list of duplicated birthdays is: [264, 336]\n",
      "In the class(iteration) 71 , the list of duplicated birthdays is: [219]\n",
      "In the class(iteration) 72 , the list of duplicated birthdays is: [196, 206]\n",
      "In the class(iteration) 73 , the list of duplicated birthdays is: [35, 312]\n",
      "In the class(iteration) 74 , the list of duplicated birthdays is: [54, 280]\n",
      "In the class(iteration) 75 , the list of duplicated birthdays is: [171, 206]\n",
      "In the class(iteration) 76 , the list of duplicated birthdays is: [70]\n",
      "In the class(iteration) 77 , the list of duplicated birthdays is: [18, 25, 190]\n",
      "In the class(iteration) 78 , the list of duplicated birthdays is: [142]\n",
      "In the class(iteration) 79 , the list of duplicated birthdays is: [5, 210, 218, 279, 304]\n",
      "In the class(iteration) 80 , the list of duplicated birthdays is: [28, 40, 100]\n",
      "In the class(iteration) 81 , the list of duplicated birthdays is: [265, 311, 332, 349]\n",
      "In the class(iteration) 82 , the list of duplicated birthdays is: [120]\n",
      "In the class(iteration) 84 , the list of duplicated birthdays is: [6, 304]\n",
      "In the class(iteration) 85 , the list of duplicated birthdays is: [3, 348]\n",
      "In the class(iteration) 86 , the list of duplicated birthdays is: [6, 199]\n",
      "In the class(iteration) 88 , the list of duplicated birthdays is: [313]\n",
      "In the class(iteration) 89 , the list of duplicated birthdays is: [81, 347]\n",
      "In the class(iteration) 90 , the list of duplicated birthdays is: [3, 77]\n",
      "In the class(iteration) 91 , the list of duplicated birthdays is: [331]\n",
      "In the class(iteration) 92 , the list of duplicated birthdays is: [22, 99, 107, 328]\n",
      "In the class(iteration) 93 , the list of duplicated birthdays is: [346]\n",
      "In the class(iteration) 94 , the list of duplicated birthdays is: [154]\n",
      "In the class(iteration) 95 , the list of duplicated birthdays is: [9, 94, 153]\n",
      "In the class(iteration) 96 , the list of duplicated birthdays is: [298]\n",
      "In the class(iteration) 97 , the list of duplicated birthdays is: [252, 296, 359]\n",
      "In the class(iteration) 98 , the list of duplicated birthdays is: [5, 92]\n",
      "In the class(iteration) 101 , the list of duplicated birthdays is: [62]\n",
      "In the class(iteration) 102 , the list of duplicated birthdays is: [5, 33, 81, 334]\n",
      "In the class(iteration) 103 , the list of duplicated birthdays is: [81, 105, 218]\n",
      "In the class(iteration) 104 , the list of duplicated birthdays is: [181]\n",
      "In the class(iteration) 105 , the list of duplicated birthdays is: [188]\n",
      "In the class(iteration) 106 , the list of duplicated birthdays is: [84, 132, 276]\n",
      "In the class(iteration) 107 , the list of duplicated birthdays is: [124, 275, 344]\n",
      "In the class(iteration) 108 , the list of duplicated birthdays is: [130, 342, 349]\n",
      "In the class(iteration) 109 , the list of duplicated birthdays is: [234, 304]\n",
      "In the class(iteration) 110 , the list of duplicated birthdays is: [324]\n",
      "In the class(iteration) 111 , the list of duplicated birthdays is: [46, 62, 251, 286, 350]\n",
      "In the class(iteration) 112 , the list of duplicated birthdays is: [140, 274, 336]\n",
      "In the class(iteration) 113 , the list of duplicated birthdays is: [71, 123, 146, 168]\n",
      "In the class(iteration) 114 , the list of duplicated birthdays is: [74, 212, 220]\n",
      "In the class(iteration) 115 , the list of duplicated birthdays is: [361]\n",
      "In the class(iteration) 116 , the list of duplicated birthdays is: [68, 271]\n",
      "In the class(iteration) 118 , the list of duplicated birthdays is: [176, 321, 345, 353]\n",
      "In the class(iteration) 119 , the list of duplicated birthdays is: [56, 109, 167, 227, 343]\n",
      "In the class(iteration) 120 , the list of duplicated birthdays is: [46, 298, 347]\n",
      "In the class(iteration) 121 , the list of duplicated birthdays is: [36, 357]\n",
      "In the class(iteration) 122 , the list of duplicated birthdays is: [18, 43, 109, 277]\n",
      "In the class(iteration) 123 , the list of duplicated birthdays is: [12, 169, 205, 255, 293]\n",
      "In the class(iteration) 124 , the list of duplicated birthdays is: [49, 105, 199, 317]\n",
      "In the class(iteration) 125 , the list of duplicated birthdays is: [284]\n",
      "In the class(iteration) 126 , the list of duplicated birthdays is: [12, 155]\n",
      "In the class(iteration) 127 , the list of duplicated birthdays is: [335]\n",
      "In the class(iteration) 128 , the list of duplicated birthdays is: [131, 178, 238]\n",
      "In the class(iteration) 129 , the list of duplicated birthdays is: [80, 124]\n",
      "In the class(iteration) 130 , the list of duplicated birthdays is: [112, 154, 235, 300, 303]\n",
      "In the class(iteration) 131 , the list of duplicated birthdays is: [49, 216, 254, 308]\n",
      "In the class(iteration) 132 , the list of duplicated birthdays is: [150]\n",
      "In the class(iteration) 133 , the list of duplicated birthdays is: [3, 14, 103, 126, 175, 365]\n",
      "In the class(iteration) 134 , the list of duplicated birthdays is: [70, 95, 162, 216, 251, 333]\n",
      "In the class(iteration) 135 , the list of duplicated birthdays is: [43, 340, 355]\n",
      "In the class(iteration) 136 , the list of duplicated birthdays is: [104, 200, 204, 288, 315]\n",
      "In the class(iteration) 137 , the list of duplicated birthdays is: [25, 119, 131, 291, 358]\n",
      "In the class(iteration) 138 , the list of duplicated birthdays is: [67, 103, 283, 324]\n",
      "In the class(iteration) 139 , the list of duplicated birthdays is: [44, 95, 183, 231, 351, 355]\n",
      "In the class(iteration) 140 , the list of duplicated birthdays is: [143]\n",
      "In the class(iteration) 141 , the list of duplicated birthdays is: [81, 207, 246]\n",
      "In the class(iteration) 142 , the list of duplicated birthdays is: [2, 286]\n",
      "In the class(iteration) 143 , the list of duplicated birthdays is: [153, 286, 345]\n",
      "In the class(iteration) 144 , the list of duplicated birthdays is: [71, 237]\n",
      "In the class(iteration) 145 , the list of duplicated birthdays is: [132, 144, 199, 313]\n",
      "In the class(iteration) 147 , the list of duplicated birthdays is: [62, 100, 303]\n",
      "In the class(iteration) 148 , the list of duplicated birthdays is: [18, 239]\n",
      "In the class(iteration) 149 , the list of duplicated birthdays is: [13, 126, 206, 213, 256, 313]\n",
      "In the class(iteration) 150 , the list of duplicated birthdays is: [76, 167]\n",
      "In the class(iteration) 151 , the list of duplicated birthdays is: [230]\n",
      "In the class(iteration) 152 , the list of duplicated birthdays is: [53, 60, 197]\n",
      "In the class(iteration) 153 , the list of duplicated birthdays is: [136, 201, 291]\n",
      "In the class(iteration) 154 , the list of duplicated birthdays is: [105, 223, 280]\n",
      "In the class(iteration) 155 , the list of duplicated birthdays is: [326]\n",
      "In the class(iteration) 156 , the list of duplicated birthdays is: [136, 165]\n",
      "In the class(iteration) 157 , the list of duplicated birthdays is: [2, 44, 117, 209]\n",
      "In the class(iteration) 158 , the list of duplicated birthdays is: [85, 321]\n",
      "In the class(iteration) 159 , the list of duplicated birthdays is: [28, 33, 54, 219, 315, 322]\n",
      "In the class(iteration) 160 , the list of duplicated birthdays is: [12, 37, 221]\n",
      "In the class(iteration) 161 , the list of duplicated birthdays is: [154, 165, 232, 345]\n",
      "In the class(iteration) 162 , the list of duplicated birthdays is: [41, 83, 205, 232, 252]\n",
      "In the class(iteration) 163 , the list of duplicated birthdays is: [84, 342]\n",
      "In the class(iteration) 164 , the list of duplicated birthdays is: [11, 156, 219]\n",
      "In the class(iteration) 165 , the list of duplicated birthdays is: [101, 228, 323, 325, 355, 359]\n",
      "In the class(iteration) 166 , the list of duplicated birthdays is: [270]\n",
      "In the class(iteration) 167 , the list of duplicated birthdays is: [78, 103, 200, 285]\n",
      "In the class(iteration) 168 , the list of duplicated birthdays is: [290, 351]\n",
      "In the class(iteration) 169 , the list of duplicated birthdays is: [62, 67, 223]\n",
      "In the class(iteration) 170 , the list of duplicated birthdays is: [29, 364]\n",
      "In the class(iteration) 172 , the list of duplicated birthdays is: [69, 84, 318]\n",
      "In the class(iteration) 173 , the list of duplicated birthdays is: [6, 85, 234, 338, 359]\n",
      "In the class(iteration) 175 , the list of duplicated birthdays is: [195, 206]\n",
      "In the class(iteration) 176 , the list of duplicated birthdays is: [226, 288, 355]\n",
      "In the class(iteration) 177 , the list of duplicated birthdays is: [143]\n",
      "In the class(iteration) 178 , the list of duplicated birthdays is: [304]\n",
      "In the class(iteration) 179 , the list of duplicated birthdays is: [22, 32, 110, 165, 209, 297]\n",
      "In the class(iteration) 180 , the list of duplicated birthdays is: [187, 241, 271, 283, 355]\n",
      "In the class(iteration) 181 , the list of duplicated birthdays is: [73, 115]\n",
      "In the class(iteration) 182 , the list of duplicated birthdays is: [45, 118, 246, 344]\n",
      "In the class(iteration) 183 , the list of duplicated birthdays is: [14, 268, 328]\n",
      "In the class(iteration) 184 , the list of duplicated birthdays is: [20, 21, 51, 277]\n",
      "In the class(iteration) 185 , the list of duplicated birthdays is: [52, 304]\n",
      "In the class(iteration) 186 , the list of duplicated birthdays is: [256]\n",
      "In the class(iteration) 187 , the list of duplicated birthdays is: [101, 142, 171, 237, 265]\n",
      "In the class(iteration) 188 , the list of duplicated birthdays is: [40, 158, 160, 244, 266, 324]\n",
      "In the class(iteration) 189 , the list of duplicated birthdays is: [45, 137]\n",
      "In the class(iteration) 190 , the list of duplicated birthdays is: [77]\n",
      "In the class(iteration) 191 , the list of duplicated birthdays is: [309]\n",
      "In the class(iteration) 192 , the list of duplicated birthdays is: [12, 151]\n",
      "In the class(iteration) 193 , the list of duplicated birthdays is: [22, 315]\n",
      "In the class(iteration) 194 , the list of duplicated birthdays is: [60, 91, 296, 341]\n",
      "In the class(iteration) 196 , the list of duplicated birthdays is: [118, 165, 193, 278]\n",
      "In the class(iteration) 197 , the list of duplicated birthdays is: [77, 241, 266, 297]\n",
      "In the class(iteration) 198 , the list of duplicated birthdays is: [150, 313]\n",
      "In the class(iteration) 199 , the list of duplicated birthdays is: [109, 321, 326]\n",
      "In the class(iteration) 200 , the list of duplicated birthdays is: [19, 62, 86, 130]\n",
      "The number of students per class is  45\n",
      "The number of iterations is  200\n",
      "Probability = 92.5 %\n"
     ]
    }
   ],
   "source": [
    "# Set the initial seed for reproducibility\n",
    "np.random.seed(1234)\n",
    "# First we initialize the variables and constants to use\n",
    "# Number of classes in the school\n",
    "classes=200\n",
    "# Number of students per class\n",
    "std_per_class = 45\n",
    "# Days of the year where the students have birthdays. In this case is the whole year\n",
    "days_year = 365\n",
    "# Counter to calculate the probability\n",
    "count=0\n",
    "# Start the simulation of the classes\n",
    "for i in range(classes):\n",
    "    # For each class, we create a list of the birthday days of students \n",
    "    a_l = list(np.random.choice(np.arange(1,days_year+1,dtype=int),std_per_class,replace=True))\n",
    "    # We call the has_duplicates function\n",
    "    has_duplicates(a_l)\n",
    "    # match is the number of the duplicated birthdays, which is a global variable in the has_duplicates function\n",
    "    # If the numbers of matches is higher than 0, proceed\n",
    "    if len(match)>0:\n",
    "        # We count the number of times where there is a match of birthdays\n",
    "        count = count +1\n",
    "        print('In the class(iteration)',i+1,', the list of duplicated birthdays is:',sorted(match))\n",
    "    # The opposite case\n",
    "    else:\n",
    "        # If there is no match, the counter remains the same\n",
    "        count=count\n",
    "# Here print(count/classes)\n",
    "print('The number of students per class is ',std_per_class)\n",
    "print('The number of iterations is ',classes)\n",
    "print('Probability =',count/classes*100, \"%\")"
   ]
  },
  {
   "cell_type": "markdown",
   "metadata": {},
   "source": [
    "Now, considering an analytical perspective, and according to the birthday problem ilustrated in https://en.wikipedia.org/wiki/Birthday_problem, the probability that at least two people have birthday the same day is: "
   ]
  },
  {
   "cell_type": "code",
   "execution_count": 7,
   "metadata": {},
   "outputs": [
    {
     "name": "stdout",
     "output_type": "stream",
     "text": [
      "Probability = 94.0975899465775 %\n"
     ]
    }
   ],
   "source": [
    "p1 = 1-(math.factorial(days_year))/(pow(days_year,std_per_class)*math.factorial(days_year-std_per_class))\n",
    "print('Probability =',p1*100, \"%\")"
   ]
  },
  {
   "cell_type": "markdown",
   "metadata": {
    "scrolled": true
   },
   "source": [
    "If the number of iterations is low, the computed probabilities shown above could be different. This is basically because of the convergence of the probability in a simulation environment.\n",
    "\n",
    "In the following section a convergence analysis will be performed, and graphically it will be easier to see how the probability using simulation converges to the analytical probability when the number of iterations increments."
   ]
  },
  {
   "cell_type": "markdown",
   "metadata": {},
   "source": [
    "## 5. Appendix - Convergence Analysis\n",
    "\n",
    "The idea is to understand how the computed probability using simulation tends to the analytical probability when we increment the number of iterations.\n",
    "\n",
    "Below, a plot is performed to ilustrate the analysis.\n",
    "\n",
    "__Warning: This process could take several minutes, due to different simulations will be performed__"
   ]
  },
  {
   "cell_type": "code",
   "execution_count": 8,
   "metadata": {},
   "outputs": [
    {
     "data": {
      "text/plain": [
       "Text(1082.1222843856413, 94.0975899465775, 'Analytical Probability: 94.1')"
      ]
     },
     "execution_count": 8,
     "metadata": {},
     "output_type": "execute_result"
    },
    {
     "data": {
      "image/png": "[encoded data removed]",
      "text/plain": [
       "<Figure size 432x288 with 1 Axes>"
      ]
     },
     "metadata": {
      "needs_background": "light"
     },
     "output_type": "display_data"
    }
   ],
   "source": [
    "# The comments of the code are similar than those in the section 4, therefore no comments are shown in the code \n",
    "np.random.seed(1234)\n",
    "it = 100\n",
    "prob1 = []\n",
    "iters = []\n",
    "for j in range(it):\n",
    "    count = 0\n",
    "    Counting = 0\n",
    "    iterations = (j+1)*10\n",
    "    for i in range(iterations):\n",
    "            a_l = list(np.random.choice(np.arange(1,days_year+1,dtype=int),std_per_class,replace=True))\n",
    "            has_duplicates(a_l)\n",
    "            if len(match)>0:\n",
    "                count = count +1\n",
    "            else:\n",
    "                count=count\n",
    "           \n",
    "    Counting = [count/iterations*100]\n",
    "    prob1=prob1+Counting \n",
    "    iters = iters + [iterations]\n",
    "# Here we plot the probabilities by iteration. Additionally, the analytical probability is plotted\n",
    "plt.xlabel('Number of Iterations')\n",
    "plt.ylabel('Probability [%]')\n",
    "#plt.xticks(np.arange(min(iters), max(iters), 100))\n",
    "plt.plot(iters,prob1)\n",
    "plt.axhline(p1*100, color='green', linestyle='dashed', linewidth=1)\n",
    "plt.text(p1*1150, p1*100,'Analytical Probability: {:.1f}'.format(p1*100))"
   ]
  },
  {
   "cell_type": "markdown",
   "metadata": {},
   "source": [
    "Therefore, looking the plot it is easy to see how the probability by each number of iterations converges to the analytical probability.\n",
    "\n",
    "To get the number of iterations to use, we need first to understand how the outcome (Probability) changes when the number of iteration increments. The increments will be measured according the following expression:\n",
    "\n",
    "$$\n",
    "Prob(i+10)/Prob(i)-1, i\\in (10,20,30,...,1000) \\ iterations\n",
    "$$\n"
   ]
  },
  {
   "cell_type": "code",
   "execution_count": 9,
   "metadata": {},
   "outputs": [
    {
     "data": {
      "text/plain": [
       "Text(0, 0.5, 'Percentual Difference of Probability [%]')"
      ]
     },
     "execution_count": 9,
     "metadata": {},
     "output_type": "execute_result"
    },
    {
     "data": {
      "image/png": "[encoded data removed]",
      "text/plain": [
       "<Figure size 432x288 with 1 Axes>"
      ]
     },
     "metadata": {
      "needs_background": "light"
     },
     "output_type": "display_data"
    }
   ],
   "source": [
    "diff = []\n",
    "for j in range(len(prob1)-1):\n",
    "    diff = diff +[(prob1[j+1]/prob1[j]-1)*100]\n",
    "plt.plot(iters[1:100],diff)\n",
    "plt.axhline(0, color='green', linestyle='dashed', linewidth=1)\n",
    "plt.axhline(1, color='orange', linestyle='dashed', linewidth=1)\n",
    "plt.axhline(2, color='red', linestyle='dashed', linewidth=1)\n",
    "plt.axhline(-1, color='orange', linestyle='dashed', linewidth=1)\n",
    "plt.axhline(-2, color='red', linestyle='dashed', linewidth=1)\n",
    "plt.axhline(3, color='brown', linestyle='dashed', linewidth=1)\n",
    "plt.axhline(-3, color='brown', linestyle='dashed', linewidth=1)\n",
    "plt.xlabel('Number of Iterations')\n",
    "plt.ylabel('Percentual Difference of Probability [%]')"
   ]
  },
  {
   "cell_type": "markdown",
   "metadata": {},
   "source": [
    "Looking the graph, it's easy to see how the percentual difference of the probability tends to 0 once the number of iterations increments. Also, the graph shows different horizontal lines, corresponding to the differences of $\\pm$3%, $\\pm$2% and $\\pm$1%. \n",
    "\n",
    "__For this assignment, we will tolerate a a difference of $\\pm$3%, therefore, we will choose 200 iterations__  "
   ]
  }
 ],
 "metadata": {
  "kernelspec": {
   "display_name": "Python 3",
   "language": "python",
   "name": "python3"
  },
  "language_info": {
   "codemirror_mode": {
    "name": "ipython",
    "version": 3
   },
   "file_extension": ".py",
   "mimetype": "text/x-python",
   "name": "python",
   "nbconvert_exporter": "python",
   "pygments_lexer": "ipython3",
   "version": "3.7.3"
  }
 },
 "nbformat": 4,
 "nbformat_minor": 2
}
